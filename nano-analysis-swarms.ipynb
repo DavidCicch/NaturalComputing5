{
 "cells": [
  {
   "cell_type": "code",
   "execution_count": 1,
   "source": [
    "import numpy as np\n",
    "from matplotlib import pyplot as plt\n",
    "import ast"
   ],
   "outputs": [],
   "metadata": {}
  },
  {
   "cell_type": "code",
   "execution_count": 24,
   "source": [
    "ns = [10, 20, 30, 40, 50, 60, 70, 80, 90, 100]\n",
    "specifiers = ['all_enabled'] #, 'no_forces', 'coh', 'sep', 'align', 'align_coh', 'sep_coh']\n",
    "for spec in specifiers:\n",
    "    speeds = []\n",
    "    densities = []\n",
    "    for n in ns:\n",
    "        with open(f'naco-data/{spec}/output_data-{n}.txt', 'r') as file:\n",
    "            data = file.read().replace('p5.Vector Object : ', '').replace('\\n', ']\\n[')\n",
    "            data = '[' + data[:-2]\n",
    "            data = data.split('\\n')[:-1]\n",
    "            out = np.array([ast.literal_eval(line) for line in data])\n",
    "\n",
    "        out = out[:, :, :-1]\n",
    "        \n",
    "        t_ins = np.argmax((out[:, :, 0] < 300) & (out[:, :, 1] <= 280), axis=1)\n",
    "        t_outs = np.argmax((out[:, :, 0] < 100) & (out[:, :, 1] <= 280), axis=1)\n",
    "        nt = np.sum((out[:, :, 0] > 100) & (out[:, :, 0] < 300), axis=0)\n",
    "\n",
    "        for t_in, t_out in zip(t_ins, t_outs):\n",
    "            if t_in != 0 or t_out != 0:\n",
    "                speed = 200 / (t_out - t_in)\n",
    "                density = np.mean(nt[t_in:t_out]) / 200\n",
    "                \n",
    "                speeds.append(speed)\n",
    "                densities.append(density)\n",
    "\n",
    "                \n",
    "    plt.scatter(densities, speeds, alpha=0.25)\n",
    "    plt.ylabel('speed [pixel/timestep]')\n",
    "    plt.xlabel(r'density [boid/pixel$^2$]')\n",
    "    plt.title(f'FD diagram - {spec}')\n",
    "    plt.ylim(0, 5)\n",
    "    plt.show()"
   ],
   "outputs": [
    {
     "output_type": "stream",
     "name": "stderr",
     "text": [
      "<ipython-input-24-eea615af2679>:21: RuntimeWarning: divide by zero encountered in long_scalars\n",
      "  speed = 200 / (t_out - t_in)\n"
     ]
    },
    {
     "output_type": "display_data",
     "data": {
      "image/png": "[encoded data removed]",
      "text/plain": [
       "<Figure size 432x288 with 1 Axes>"
      ]
     },
     "metadata": {
      "needs_background": "light"
     }
    }
   ],
   "metadata": {
    "scrolled": false
   }
  },
  {
   "cell_type": "code",
   "execution_count": 19,
   "source": [
    "ns = [10, 20, 30, 40, 50, 60, 70, 80, 90, 100, 200]\n",
    "#ns = [10, 20]\n",
    "specifiers = ['all_enabled']#, 'no_forces', 'coh', 'sep', 'align', 'align_coh', 'sep_coh']\n",
    "for spec in specifiers:\n",
    "    speeds = []\n",
    "    densities = []\n",
    "    folder = \"all_enabled/\"\n",
    "    for n in ns:\n",
    "        with open(folder + f'output_data-{n}.txt', 'r') as file:\n",
    "            data = file.read().replace('p5.Vector Object : ', '').replace('\\n', ']\\n[')\n",
    "            data = '[' + data[:-2]\n",
    "            data = data.split('\\n')[:-1]\n",
    "            out = np.array([ast.literal_eval(line) for line in data])\n",
    "\n",
    "        out = out[:, :, :-1]\n",
    "        \n",
    "        t_ins = np.zeros(n)\n",
    "        t_outs = np.zeros(n)\n",
    "        # print(out[1, :, 0])\n",
    "        t_outs = np.argmax((out[:, :, 0] > 150) & (out[:, :, 1] <= 280), axis=1)\n",
    "        t_ins = np.argmax((out[:, :, 0] < 250) & (out[:, :, 1] <= 280), axis=1)\n",
    "        # print(t_ins, t_outs)\n",
    "        density_boid = np.zeros(n)\n",
    "        speed_boid = np.zeros(n)\n",
    "        for boid in range(n):\n",
    "            t_outs_n = t_outs[boid]\n",
    "            t_ins_n = t_ins[boid]\n",
    "            if (t_outs_n != 0 | t_ins_n != 0):\n",
    "                for i in range(t_ins_n, t_outs_n):\n",
    "                    density += 1/(t_outs_n - t_ins_n) * (len(t_ins[t_ins < i & t_outs > i])/ (200))\n",
    "                \n",
    "                density_boid[boid] = density\n",
    "                speed_boid[boid] = 100 / (t_ins_n - t_outs_n)\n",
    "        \n",
    "        speeds.append(np.mean(speed_boid))\n",
    "        densities.append(np.mean(density_boid)) \n",
    "        #print(speeds)\n",
    "\n",
    "            \n",
    "            \n",
    "\n",
    "        # for boid in range(n):\n",
    "        #     in_bounds = out[boid, in_bounds1[boid] & in_bounds2[boid] & in_bounds3[boid], 0]\n",
    "        #     if len(in_bounds) > 20 and out[boid, 0, 0] > 300 and out[boid, -1, 0] < 100:\n",
    "        #         speed = 200 / len(in_bounds)\n",
    "        #         density = sum(out[:, in_bounds1[boid] & in_bounds2[boid] & in_bounds3[boid], 0])[0] / (200 * len(in_bounds))\n",
    "        #         speeds.append(speed)\n",
    "        #         densities.append(density)\n",
    "                \n",
    "    plt.scatter(densities, speeds)\n",
    "#     plt.errorbar(densities, speeds, np.std(speeds), color='black', linestyle='None', marker='^', alpha= 0.05)\n",
    "    plt.ylabel('speed [pixel/timestep]')\n",
    "    plt.xlabel(r'density [boid/pixel$^2$]')\n",
    "    plt.title(f'FD diagram - {spec}')\n",
    "#     plt.ylim([0, 5])\n",
    "    plt.show()"
   ],
   "outputs": [
    {
     "output_type": "display_data",
     "data": {
      "image/png": "[encoded data removed]",
      "text/plain": [
       "<Figure size 432x288 with 1 Axes>"
      ]
     },
     "metadata": {
      "needs_background": "light"
     }
    }
   ],
   "metadata": {}
  },
  {
   "cell_type": "code",
   "execution_count": 54,
   "source": [
    "print(speeds, densities)"
   ],
   "outputs": [
    {
     "output_type": "stream",
     "name": "stdout",
     "text": [
      "[0.9439808964088351, 0.9959620153808136] [0.05, 0.125]\n"
     ]
    }
   ],
   "metadata": {}
  },
  {
   "cell_type": "code",
   "execution_count": 7,
   "source": [
    "plt.scatter(densities, speeds)\n",
    "plt.ylabel('speed [pixel/timestep]')\n",
    "plt.xlabel(r'density [boid/pixel$^2$]')\n",
    "plt.title('FD diagram')\n",
    "plt.show()"
   ],
   "outputs": [
    {
     "output_type": "display_data",
     "data": {
      "image/png": "[encoded data removed]",
      "text/plain": [
       "<Figure size 432x288 with 1 Axes>"
      ]
     },
     "metadata": {
      "needs_background": "light"
     }
    }
   ],
   "metadata": {}
  },
  {
   "cell_type": "code",
   "execution_count": null,
   "source": [],
   "outputs": [],
   "metadata": {}
  }
 ],
 "metadata": {
  "kernelspec": {
   "name": "python3",
   "display_name": "Python 3.8.10 64-bit"
  },
  "language_info": {
   "codemirror_mode": {
    "name": "ipython",
    "version": 3
   },
   "file_extension": ".py",
   "mimetype": "text/x-python",
   "name": "python",
   "nbconvert_exporter": "python",
   "pygments_lexer": "ipython3",
   "version": "3.8.10"
  },
  "interpreter": {
   "hash": "916dbcbb3f70747c44a77c7bcd40155683ae19c65e1c03b4aa3499c5328201f1"
  }
 },
 "nbformat": 4,
 "nbformat_minor": 5
}